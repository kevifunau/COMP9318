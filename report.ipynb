{
 "cells": [
  {
   "cell_type": "code",
   "execution_count": 2,
   "metadata": {},
   "outputs": [],
   "source": [
    "# import modules\n",
    "from sklearn import svm\n",
    "import numpy as np\n",
    "import helper\n",
    "from collections import defaultdict\n",
    "from math import log"
   ]
  },
  {
   "cell_type": "code",
   "execution_count": 16,
   "metadata": {},
   "outputs": [
    {
     "name": "stdout",
     "output_type": "stream",
     "text": [
      "The amount of class0 is:  360\n",
      "The amount of class1 is:  180\n",
      "one sample was represented as follows \n",
      " ['boeing', 'be', 'compete', 'against', 'europe', \"'s\", 'airbus', 'consortium', 'for', 'dominance', 'of', 'the', 'international', 'aviation', 'market', '.', 'the', 'raid', 'kill', 'nine', 'member', 'of', 'a', 'french', 'peacekeeping', 'force', '\"', 'which', 'respond', 'by', 'destroy', 'ivorian', 'warplane', '.', 'ms.', 'osthoff', 'and', 'her', 'driver', 'disappear', 'on', 'november', '25', 'in', 'the', 'region', 'of', 'northwest', 'iraq', '.', 'in', 'an', 'attempt', 'to', 'reduce', 'the', 'balloon', 'national', 'debt', '\"', 'the', 'rafiq', 'hariri', 'government', 'in', '2000', 'begin', 'an', 'austerity', 'program', '\"', 'rein', 'in', 'government', 'expenditure', '\"', 'increase', 'revenue', 'collection', '\"', 'and', 'pass', 'legislation', 'to', 'privatize', 'state', 'enterprise', '\"', 'but', 'economic', 'and', 'financial', 'reform', 'initiative', 'stall', 'and', 'public', 'debt', 'continue', 'to', 'grow', 'despite', 'receipt', 'of', 'more', 'than', '$', '2', 'billion', 'in', 'bilateral', 'assistance', 'at', 'the', '2002', 'paris', 'ii', 'donor', 'conference', '.', 'the', 'french', '-', 'egyptian', 'owner', 'of', 'the', 'french', 'newspaper', 'france', 'soir', 'have', 'fire', 'an', 'editor', 'for', 'reprint', 'the', 'cartoon', '.']\n"
     ]
    }
   ],
   "source": [
    "strategy_instance=helper.strategy()\n",
    "# two training data class0, class 1\n",
    "print(\"The amount of class0 is: \",len(strategy_instance.class0))\n",
    "print(\"The amount of class1 is: \",len(strategy_instance.class1))\n",
    "print(\"One sample was represented as follows \\n\",strategy_instance.class0[0])"
   ]
  },
  {
   "cell_type": "code",
   "execution_count": 17,
   "metadata": {},
   "outputs": [],
   "source": [
    "######### feature extraction ###########\n",
    "strategy_instance=helper.strategy()\n",
    "vacub_set =list(set(words for line in strategy_instance.class0 for words in line).union(set(words for line in strategy_instance.class1 for words in line )))\n",
    "vacub_dict =  { vacub_set[i]:i for i in range(len(vacub_set))}\n",
    "document_frequency = { vacub_set[i]:0 for i in range(len(vacub_set))}\n",
    "row_length = {}\n",
    "v_k_dict={ v:k for k,v in vacub_dict.items()}\n",
    "\n",
    "# build feature_matrix for train_x \n",
    "feature_matrix= np.zeros(( len(strategy_instance.class0)+len(strategy_instance.class1),len(vacub_dict) ),dtype=np.float64)\n",
    "# build class_matrix for train_y\n",
    "train_y = np.empty((len(strategy_instance.class0) + len(strategy_instance.class1)),dtype=np.int16)\n",
    "\n",
    "iter = 0\n",
    "while iter < len(strategy_instance.class0):\n",
    "    for line in strategy_instance.class0:\n",
    "        # set word value\n",
    "        for word in line:\n",
    "            if (vacub_dict.get(word)!=None):\n",
    "                feature_matrix[iter,vacub_dict.get(word)] +=1 \n",
    "        for word in list(set(line)):\n",
    "            document_frequency[word] +=1\n",
    "  \n",
    "        #set class value\n",
    "        train_y[iter] = -1\n",
    "        row_length[iter] = len(line)\n",
    "        iter +=1\n",
    "        \n",
    "while iter < len(strategy_instance.class0) + len(strategy_instance.class1) :\n",
    "    for line in strategy_instance.class1:\n",
    "        # set word value\n",
    "        for word in line:\n",
    "            if (vacub_dict.get(word)!=None):\n",
    "                feature_matrix[iter,vacub_dict.get(word)] +=1 \n",
    "        for word in list(set(line)):\n",
    "            document_frequency[word] +=1\n",
    "        #set class value\n",
    "        train_y[iter] = 1\n",
    "        row_length[iter] = len(line)\n",
    "        iter +=1\n",
    "\n",
    "####### TF-IDF ###########\n",
    "N = len(strategy_instance.class0)+len(strategy_instance.class1)\n",
    "\n",
    "row,col = feature_matrix.shape\n",
    "for i in range(row):\n",
    "    for j in range(col):\n",
    "        tf = feature_matrix[i,j]\n",
    "        if tf>0:\n",
    "            word = v_k_dict[j]\n",
    "            feature_matrix[i,j] = ( tf / row_length[i] )* (log( 1 + N / document_frequency[word],2))"
   ]
  },
  {
   "cell_type": "code",
   "execution_count": null,
   "metadata": {},
   "outputs": [],
   "source": []
  }
 ],
 "metadata": {
  "kernelspec": {
   "display_name": "Python 3",
   "language": "python",
   "name": "python3"
  },
  "language_info": {
   "codemirror_mode": {
    "name": "ipython",
    "version": 3
   },
   "file_extension": ".py",
   "mimetype": "text/x-python",
   "name": "python",
   "nbconvert_exporter": "python",
   "pygments_lexer": "ipython3",
   "version": "3.6.4"
  }
 },
 "nbformat": 4,
 "nbformat_minor": 2
}
